{
  "cells": [
    {
      "cell_type": "code",
      "execution_count": 3,
      "metadata": {
        "id": "_llb9DFrohVy"
      },
      "outputs": [],
      "source": [
        "import matplotlib.pyplot as plt\n",
        "import numpy as np\n",
        "import torch\n",
        "import torch.nn as nn\n",
        "from torch.utils.data import DataLoader\n",
        "from numpy import random\n",
        "import configparser\n",
        "from text_processing import read_data_from_folder, get_word_count, map_words_to_index, pad_and_truncate_reviews\n",
        "from utils import SentimentDataset, SentimentLSTM, accuracy\n",
        "from test_utils import process_test_reviewx, predict_sentiment"
      ]
    },
    {
      "cell_type": "code",
      "execution_count": 4,
      "metadata": {
        "id": "p3v_0I-Foqy9"
      },
      "outputs": [],
      "source": [
        "# Read the INI configuration file\n",
        "config = configparser.ConfigParser()\n",
        "config.read(\"config.ini\")\n",
        "\n",
        "# Get the values for text processing\n",
        "SEQUENCE_MAX_CUTOFF_LENGTH = int(config[\"TEXT_PROCESSING\"][\"SEQUENCE_MAX_CUTOFF_LENGTH\"]) # Used review length analysis to get the value\n",
        "SEQUENCE_MIN_CUTOFF_LENGTH = int(config[\"TEXT_PROCESSING\"][\"SEQUENCE_MIN_CUTOFF_LENGTH\"])  # All reviews need to be greater than this\n",
        "\n",
        "\n",
        "# Model Params & Training Params\n",
        "LEARNING_RATE = float(config[\"MODEL_TRAINING\"][\"LEARNING_RATE\"])\n",
        "EPOCHS = int(config[\"MODEL_TRAINING\"][\"EPOCHS\"])\n",
        "CLIP = int(config[\"MODEL_TRAINING\"][\"CLIP\"])\n",
        "BATCH_SIZE = int(config[\"MODEL_TRAINING\"][\"BATCH_SIZE\"])\n",
        "\n",
        "# Model Hyperparameters\n",
        "OUTPUT_SIZE = int(config[\"MODEL_HYPERPARAMS\"][\"OUTPUT_SIZE\"])\n",
        "EMBEDDING_DIM = int(config[\"MODEL_HYPERPARAMS\"][\"EMBEDDING_DIM\"])\n",
        "LSTM_HIDDEN_DIM = int(config[\"MODEL_HYPERPARAMS\"][\"LSTM_HIDDEN_DIM\"])\n",
        "LSTM_NLAYERS = int(config[\"MODEL_HYPERPARAMS\"][\"LSTM_NLAYERS\"])\n",
        "DROP_PROP = float(config[\"MODEL_HYPERPARAMS\"][\"DROP_PROP\"])\n",
        "\n",
        "\n",
        "device = torch.device(\"cuda\" if torch.cuda.is_available() else \"cpu\")"
      ]
    },
    {
      "cell_type": "markdown",
      "metadata": {
        "id": "swWGyJzBotjL"
      },
      "source": [
        "## 01. Read the data"
      ]
    },
    {
      "cell_type": "code",
      "execution_count": 5,
      "metadata": {
        "id": "YHmRNj03oqv0"
      },
      "outputs": [],
      "source": [
        "# ### read all the data in a folder. Output is a tuple(list[reviews], list[ratings])\n",
        "\n",
        "train_pos_reviews, train_pos_ratings  = read_data_from_folder(folderpath = \"train/pos\")\n",
        "train_neg_reviews, train_neg_ratings  = read_data_from_folder(folderpath = \"train/neg\")\n",
        "test_pos_reviews, test_pos_ratings  = read_data_from_folder(folderpath = \"test/pos\")\n",
        "test_neg_reviews, test_neg_ratings  = read_data_from_folder(folderpath = \"test/neg\")"
      ]
    },
    {
      "cell_type": "code",
      "execution_count": 6,
      "metadata": {
        "id": "GlhH-IkOoquI"
      },
      "outputs": [],
      "source": [
        "### get training and test datasets by combining pos and neg data\n",
        "\n",
        "train_reviews = train_pos_reviews + train_neg_reviews\n",
        "train_ratings = train_pos_ratings + train_neg_ratings\n",
        "test_reviews = test_pos_reviews + test_neg_reviews\n",
        "test_ratings = test_pos_ratings + test_neg_ratings"
      ]
    },
    {
      "cell_type": "code",
      "execution_count": 7,
      "metadata": {
        "id": "FHoYC-P1oqsE"
      },
      "outputs": [],
      "source": [
        "### Get a perspective of data shape\n",
        "print(\"Total count of rating reviews foir training\", len(train_reviews))\n",
        "print(\"Total count of rating ratings foir training\", len(train_ratings))\n",
        "print(\"Total count of rating reviews foir testing\", len(test_reviews))\n",
        "print(\"Total count of rating ratings foir testing\", len(test_ratings))"
      ]
    },
    {
      "cell_type": "markdown",
      "metadata": {
        "id": "YZA6HiblozZX"
      },
      "source": [
        "## 02. Tokenise the data - Reviews and Ratings\n",
        "\n",
        "* Map the words in the reviews to some integer indexing\n",
        "* Similarly map the ratings to binary values"
      ]
    },
    {
      "cell_type": "code",
      "execution_count": 8,
      "metadata": {
        "id": "tdaW-i3OoqqJ"
      },
      "outputs": [],
      "source": [
        "### Get a word count dictionary\n",
        "\n",
        "words_count = get_word_count(train_reviews)\n",
        "distinct_words_total = len(words_count)\n",
        "\n",
        "words_count_sorted = words_count.most_common(distinct_words_total)"
      ]
    },
    {
      "cell_type": "code",
      "execution_count": 9,
      "metadata": {
        "id": "khWLKVFYo3XH"
      },
      "outputs": [],
      "source": [
        "### Get a mapper to map words to integer indexes\n",
        "### As we are going to do padding for shorter reviews and conventional choice for padding is 0. So we need to start this indexing from 1. OOV words in test dataset are dropped\n",
        "\n",
        "\n",
        "## Create a mapping of words to index\n",
        "vocab_to_int = {word:i+1 for i, (word,_) in enumerate(words_count_sorted)}\n",
        "\n",
        "## map the words to index in train and test reviews\n",
        "train_reviews_encoded = [map_words_to_index(review, vocab_to_int) for review in train_reviews]\n",
        "test_reviews_encoded = [map_words_to_index(review, vocab_to_int) for review in test_reviews]\n",
        "\n",
        "## encode the labels as well\n",
        "train_ratings_encoded = [1 if rating >= 7 else 0 for rating in train_ratings]\n",
        "test_ratings_encoded = [1 if rating >= 7 else 0 for rating in test_ratings]"
      ]
    },
    {
      "cell_type": "markdown",
      "metadata": {
        "id": "GoDlyN4lo506"
      },
      "source": [
        "## 03. Padding/ Truncating the reviews for training"
      ]
    },
    {
      "cell_type": "code",
      "execution_count": null,
      "metadata": {
        "colab": {
          "base_uri": "https://localhost:8080/",
          "height": 211
        },
        "id": "g80obhr5o3VK",
        "outputId": "232ecdd6-56ac-4a08-afe2-b08eebc8e46f"
      },
      "outputs": [
        {
          "data": {
            "image/png": "[encoded data removed]",
            "text/plain": [
              "<Figure size 640x480 with 1 Axes>"
            ]
          },
          "metadata": {},
          "output_type": "display_data"
        }
      ],
      "source": [
        "### Get a grasp of review lengths for training in batches\n",
        "\n",
        "train_reviews_length = [len(re) for re in train_reviews_encoded]\n",
        "\n",
        "plt.hist(train_reviews_length)\n",
        "plt.show()"
      ]
    },
    {
      "cell_type": "code",
      "execution_count": null,
      "metadata": {
        "colab": {
          "base_uri": "https://localhost:8080/",
          "height": 211
        },
        "id": "BohoevF3o3Te",
        "outputId": "36baf210-69cb-407a-fe8a-fda98e807e3b"
      },
      "outputs": [
        {
          "name": "stdout",
          "output_type": "stream",
          "text": [
            "Mean of the review length: 233\n",
            "25th percentile of the review length: 127.0\n",
            "50th percentile of the review length: 174.0\n",
            "75th percentile of the review length: 284.0\n"
          ]
        }
      ],
      "source": [
        "### Get basic statistics\n",
        "\n",
        "print(\"Mean of the review length:\", int(np.mean(train_reviews_length)))\n",
        "print(\"25th percentile of the review length:\", np.percentile(train_reviews_length, 25))\n",
        "print(\"50th percentile of the review length:\", np.percentile(train_reviews_length, 50))\n",
        "print(\"75th percentile of the review length:\", np.percentile(train_reviews_length, 75))"
      ]
    },
    {
      "cell_type": "code",
      "execution_count": 10,
      "metadata": {
        "id": "B-1AVPnso3Ra"
      },
      "outputs": [],
      "source": [
        "### Guess a review length of 256 should be good enough\n",
        "### Remove review of length 0, if there\n",
        "\n",
        "train_reviews_encoded = [train_reviews_encoded[index] for index, length in enumerate(train_reviews_length) if length >= SEQUENCE_MIN_CUTOFF_LENGTH]\n",
        "train_ratings_encoded = [train_ratings_encoded[index] for index, length in enumerate(train_reviews_length) if length >= SEQUENCE_MIN_CUTOFF_LENGTH]"
      ]
    },
    {
      "cell_type": "code",
      "execution_count": 11,
      "metadata": {
        "id": "bGwD3J7yo3PO"
      },
      "outputs": [],
      "source": [
        "### For reviews shorter than SEQUENCE_LENGTH, we will pad with 0s. For reviews longer than seq_length we will truncate them to the first SEQUENCE_LENGTH words. SEQUENCE_LENGTH is same as number of timesteps in LSTM\n",
        "\n",
        "# pad/ truncate the reviews to a uniform size of SEQUENCE_LENGTH. Output id array of shape #num_reviews * SEQUENCE_LENGTH\n",
        "train_reviews_encoded_arr = pad_and_truncate_reviews(train_reviews_encoded, SEQUENCE_MAX_CUTOFF_LENGTH)"
      ]
    },
    {
      "cell_type": "markdown",
      "metadata": {
        "id": "QIlZvAYwpAW_"
      },
      "source": [
        "## 04. Train validation split"
      ]
    },
    {
      "cell_type": "code",
      "execution_count": 12,
      "metadata": {
        "id": "LnwDFBQBo2nd"
      },
      "outputs": [],
      "source": [
        "### As first 12500 reviews are positive and next 12500 reviews are negative. I have to uniquely select the reviews to ensure 50-50 balance of reviews in train and validation\n",
        "\n",
        "split_frac = 0.8\n",
        "\n",
        "train_index = np.concatenate(\n",
        "    (random.choice(list(range(0,12500)), size = int(split_frac*12500), replace= False),\n",
        "     random.choice(list(range(12500,25000)), size = int(split_frac*12500), replace= False),\n",
        "    ), axis = 0)\n",
        "\n",
        "validation_index = np.setdiff1d(np.array(list(range(0,25000))), train_index)\n",
        "\n",
        "\n",
        "# Get the train and validation dataset\n",
        "train_reviews_encodedX = np.take(train_reviews_encoded_arr, train_index, axis= 0)\n",
        "train_ratings_encodedy = np.take(np.array(train_ratings_encoded, dtype = int), train_index, axis= 0)\n",
        "\n",
        "valid_reviews_encodedX = np.take(train_reviews_encoded_arr, validation_index, axis= 0)\n",
        "valid_ratings_encodedy = np.take(np.array(train_ratings_encoded, dtype = int), validation_index, axis= 0)"
      ]
    },
    {
      "cell_type": "code",
      "execution_count": 13,
      "metadata": {
        "id": "Q6ukJP8eo2j9"
      },
      "outputs": [],
      "source": [
        "# create custom Dataset and Dataloader for train and validation data\n",
        "\n",
        "train_dataset = SentimentDataset(train_reviews_encodedX, train_ratings_encodedy)\n",
        "train_loader = DataLoader(train_dataset, batch_size=BATCH_SIZE, shuffle=True)\n",
        "\n",
        "\n",
        "valid_dataset = SentimentDataset(valid_reviews_encodedX, valid_ratings_encodedy)\n",
        "valid_loader = DataLoader(valid_dataset, batch_size=BATCH_SIZE, shuffle=True)"
      ]
    },
    {
      "cell_type": "code",
      "execution_count": 14,
      "metadata": {
        "id": "YGsQq7RDevEA"
      },
      "outputs": [],
      "source": [
        "# Dump numpy array to npy file to train on colab. SKip if system has GPU\n",
        "np.save(\"train_reviews_encodedX.npy\", train_reviews_encodedX)\n",
        "np.save(\"train_ratings_encodedy.npy\", train_ratings_encodedy)\n",
        "np.save(\"valid_reviews_encodedX.npy\", valid_reviews_encodedX)\n",
        "np.save(\"valid_ratings_encodedy.npy\", valid_ratings_encodedy)\n",
        "\n",
        "train_reviews_encodedX = np.load(\"train_reviews_encodedX.npy\")\n",
        "train_ratings_encodedy = np.load(\"train_ratings_encodedy.npy\")\n",
        "valid_reviews_encodedX = np.load(\"valid_reviews_encodedX.npy\")\n",
        "valid_ratings_encodedy = np.load(\"valid_ratings_encodedy.npy\")"
      ]
    },
    {
      "cell_type": "markdown",
      "metadata": {
        "id": "X_hLxzyUpErU"
      },
      "source": [
        "## 05. Create a model instanse"
      ]
    },
    {
      "cell_type": "code",
      "execution_count": 15,
      "metadata": {
        "id": "VP2Q3D6Lo2iQ"
      },
      "outputs": [],
      "source": [
        "model = SentimentLSTM(vocab_size = len(vocab_to_int),\n",
        "                      output_size = OUTPUT_SIZE,\n",
        "                      embedding_dim = EMBEDDING_DIM,\n",
        "                      hidden_dim = LSTM_HIDDEN_DIM,\n",
        "                      n_layers = LSTM_NLAYERS,\n",
        "                      drop_prob=DROP_PROP)\n",
        "\n",
        "print(model)"
      ]
    },
    {
      "cell_type": "markdown",
      "metadata": {
        "id": "qAEQ1ke7evEA"
      },
      "source": [
        "## 06. Training"
      ]
    },
    {
      "cell_type": "code",
      "execution_count": 16,
      "metadata": {
        "id": "mPchbET_o2ev"
      },
      "outputs": [],
      "source": [
        "\n",
        "# loss and optimization functions\n",
        "lr= LEARNING_RATE\n",
        "criterion = nn.BCELoss()\n",
        "optimizer = torch.optim.Adam(model.parameters(), lr=lr)\n",
        "\n",
        "# training params\n",
        "epochs = EPOCHS # 3-4 is approx where I noticed the validation loss stop decreasing\n",
        "clip= CLIP # gradient clipping"
      ]
    },
    {
      "cell_type": "code",
      "execution_count": 17,
      "metadata": {
        "id": "AnVO6veXo2c8"
      },
      "outputs": [],
      "source": [
        "# train loops\n",
        "\n",
        "epoch_tr_loss,epoch_vl_loss = [],[]\n",
        "epoch_tr_acc,epoch_vl_acc = [],[]\n",
        "\n",
        "\n",
        "for epoch in range(epochs):\n",
        "    train_losses = []\n",
        "    train_acc = 0.0\n",
        "    model.train()\n",
        "    # initialize hidden state\n",
        "    h = model.init_hidden(BATCH_SIZE)\n",
        "    for inputs, labels in train_loader:\n",
        "\n",
        "        inputs, labels = inputs.to(device), labels.to(device)\n",
        "        # Creating new variables for the hidden state, otherwise\n",
        "        # we'd backprop through the entire training history\n",
        "        h = tuple([each.data for each in h])\n",
        "\n",
        "        model.zero_grad()\n",
        "        output,h = model(inputs,h)\n",
        "\n",
        "        # calculate the loss and perform backprop\n",
        "        loss = criterion(output.squeeze(), labels.float())\n",
        "        loss.backward()\n",
        "        train_losses.append(loss.item())\n",
        "        # calculating accuracy\n",
        "        acc = accuracy(output,labels)\n",
        "        train_acc += acc\n",
        "        #`clip_grad_norm` helps prevent the exploding gradient problem in RNNs / LSTMs.\n",
        "        nn.utils.clip_grad_norm_(model.parameters(), clip)\n",
        "        optimizer.step()\n",
        "\n",
        "    val_h = model.init_hidden(BATCH_SIZE)\n",
        "    val_losses = []\n",
        "    val_acc = 0.0\n",
        "    model.eval()\n",
        "    for inputs, labels in valid_loader:\n",
        "            val_h = tuple([each.data for each in val_h])\n",
        "\n",
        "\n",
        "            inputs, labels = inputs.to(device), labels.to(device)\n",
        "\n",
        "\n",
        "            output, val_h = model(inputs, val_h)\n",
        "            val_loss = criterion(output.squeeze(), labels.float())\n",
        "\n",
        "\n",
        "            val_losses.append(val_loss.item())\n",
        "\n",
        "            acc = accuracy(output,labels)\n",
        "            val_acc += acc\n",
        "\n",
        "    epoch_train_loss = np.mean(train_losses)\n",
        "    epoch_val_loss = np.mean(val_losses)\n",
        "    epoch_train_acc = train_acc/len(train_loader.dataset)\n",
        "    epoch_val_acc = val_acc/len(valid_loader.dataset)\n",
        "    epoch_tr_loss.append(epoch_train_loss)\n",
        "    epoch_vl_loss.append(epoch_val_loss)\n",
        "    epoch_tr_acc.append(epoch_train_acc)\n",
        "    epoch_vl_acc.append(epoch_val_acc)\n",
        "    print(f'Epoch {epoch+1}')\n",
        "    print(f'train_loss : {epoch_train_loss} val_loss : {epoch_val_loss}')\n",
        "    print(f'train_accuracy : {epoch_train_acc*100} val_accuracy : {epoch_val_acc*100}')"
      ]
    },
    {
      "cell_type": "markdown",
      "metadata": {
        "id": "TF9RkvmXevEA"
      },
      "source": [
        "## 07. Model weight saving & Testing"
      ]
    },
    {
      "cell_type": "code",
      "execution_count": 18,
      "metadata": {
        "id": "-5hhTs2nevEA"
      },
      "outputs": [],
      "source": [
        "# save the model weights. Saved on GPU and to be loaded on GPU\n",
        "\n",
        "torch.save(model.state_dict(), \"LSTM_Sentimentanalysis.pth\")"
      ]
    },
    {
      "cell_type": "code",
      "execution_count": 19,
      "metadata": {
        "id": "hqxS_sc0evEA"
      },
      "outputs": [],
      "source": [
        "# load the model weights\n",
        "test_model = SentimentLSTM(vocab_size = len(vocab_to_int) +1, # len(vocab_to_int) +1 for zero,\n",
        "                      output_size = OUTPUT_SIZE,\n",
        "                      embedding_dim = EMBEDDING_DIM,\n",
        "                      hidden_dim = LSTM_HIDDEN_DIM,\n",
        "                      n_layers = LSTM_NLAYERS,\n",
        "                      drop_prob=DROP_PROP)\n",
        "\n",
        "\n",
        "test_model.load_state_dict(torch.load(\"LSTM_Sentimentanalysis.pth\", map_location=device))\n",
        "print(test_model)"
      ]
    },
    {
      "cell_type": "code",
      "execution_count": 20,
      "metadata": {
        "id": "7QMXIeHVevEB"
      },
      "outputs": [],
      "source": [
        "# test on a sample review\n",
        "\n",
        "neg_review = \"This is a pale imitation of 'Officer and a Gentleman.' There is NO chemistry between Kutcher and the unknown woman who plays his love interest. The dialog is wooden, the situations hackneyed. It's too long and the climax is anti-climactic(!). I love the USCG, its men and women are fearless and tough. The action scenes are awesome, but this movie doesn't do much for recruiting, I fear. The script is formulaic, but confusing. Kutcher's character is trying to redeem himself for an accident that wasn't his fault? Costner's is raging against the dying of the light, but why? His 'conflict' with his wife is about as deep as a mud puddle. I saw this sneak preview for free and certainly felt I got my money's worth.\"\n",
        "\n",
        "pos_review = \"I went and saw this movie last night after being coaxed to by a few friends of mine. I'll admit that I was reluctant to see it because from what I knew of Ashton Kutcher he was only able to do comedy. I was wrong. Kutcher played the character of Jake Fischer very well, and Kevin Costner played Ben Randall with such professionalism. The sign of a good movie is that it can toy with our emotions. This one did exactly that. The entire theater (which was sold out) was overcome by laughter during the first half of the movie, and were moved to tears during the second half. While exiting the theater I not only saw many women in tears, but many full grown men as well, trying desperately not to let anyone see them crying. This movie was great, and I suggest that you go see it before you judge.\""
      ]
    },
    {
      "cell_type": "code",
      "execution_count": 21,
      "metadata": {
        "colab": {
          "base_uri": "https://localhost:8080/"
        },
        "id": "HfVCRWr3evEB",
        "outputId": "1d5a5a0d-eb0f-409b-d747-b471092f4672"
      },
      "outputs": [
        {
          "output_type": "stream",
          "name": "stdout",
          "text": [
            "Sentiment score for negative reviw is 0.39911898970603943\n"
          ]
        }
      ],
      "source": [
        "# sentiment for negative review\n",
        "review_encoded = process_test_reviewx(neg_review, vocab_to_int_mapper = vocab_to_int)\n",
        "\n",
        "print(\"Sentiment score for negative reviw is\" , predict_sentiment(review_encoded, model = test_model, device = device))"
      ]
    },
    {
      "cell_type": "code",
      "execution_count": 22,
      "metadata": {
        "colab": {
          "base_uri": "https://localhost:8080/"
        },
        "id": "qXpkS7JZevEB",
        "outputId": "75a24fd1-5cb3-4f15-8a85-1331da37a0bf"
      },
      "outputs": [
        {
          "output_type": "stream",
          "name": "stdout",
          "text": [
            "Sentiment score for positive reviw is 0.9870518445968628\n"
          ]
        }
      ],
      "source": [
        "# sentiment for positive review\n",
        "review_encoded = process_test_reviewx(pos_review, vocab_to_int_mapper = vocab_to_int)\n",
        "\n",
        "print(\"Sentiment score for positive reviw is\" , predict_sentiment(review_encoded, model = test_model, device = device))\n"
      ]
    }
  ],
  "metadata": {
    "colab": {
      "provenance": [],
      "toc_visible": true
    },
    "kernelspec": {
      "display_name": "Python 3",
      "name": "python3"
    },
    "language_info": {
      "codemirror_mode": {
        "name": "ipython",
        "version": 3
      },
      "file_extension": ".py",
      "mimetype": "text/x-python",
      "name": "python",
      "nbconvert_exporter": "python",
      "pygments_lexer": "ipython3",
      "version": "3.10.8"
    }
  },
  "nbformat": 4,
  "nbformat_minor": 0
}